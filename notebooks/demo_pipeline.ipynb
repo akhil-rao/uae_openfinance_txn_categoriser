# UAE Open Finance Categoriser Demo Pipeline
This Jupyter notebook runs the entire backend flow end-to-end.
1️⃣ Load sample_transactions.csv
2️⃣ Run Step 1 (normaliser)
3️⃣ Run Step 2 (mapper)
4️⃣ Review txn_categorised_v1.csv and audit log
